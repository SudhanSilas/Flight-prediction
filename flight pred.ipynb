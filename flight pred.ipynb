{
 "cells": [
  {
   "cell_type": "code",
   "execution_count": 3,
   "metadata": {},
   "outputs": [],
   "source": [
    "import selenium\n",
    "import pandas as pd\n",
    "import time\n",
    "from bs4 import BeautifulSoup\n",
    "from selenium import webdriver\n",
    "from selenium.common.exceptions import StaleElementReferenceException, NoSuchElementException\n",
    "import requests\n",
    "import re"
   ]
  },
  {
   "cell_type": "code",
   "execution_count": 4,
   "metadata": {},
   "outputs": [],
   "source": [
    "driver=webdriver.Edge(\"msedgedriver.exe\")   \n",
    "driver.get(\"https://www.tripodeal.com/results\")"
   ]
  },
  {
   "cell_type": "code",
   "execution_count": 5,
   "metadata": {},
   "outputs": [],
   "source": [
    "driver.find_element_by_xpath('//*[@id=\"origin\"]').click()"
   ]
  },
  {
   "cell_type": "code",
   "execution_count": 7,
   "metadata": {},
   "outputs": [],
   "source": [
    "driver.find_element_by_xpath('//*[@id=\"origin\"]').send_keys(\"MAA Madras India\")"
   ]
  },
  {
   "cell_type": "code",
   "execution_count": 8,
   "metadata": {},
   "outputs": [],
   "source": [
    "driver.find_element_by_xpath('//*[@id=\"destination\"]').click()"
   ]
  },
  {
   "cell_type": "code",
   "execution_count": 9,
   "metadata": {},
   "outputs": [],
   "source": [
    "driver.find_element_by_xpath('//*[@id=\"destination\"]').send_keys(\"DEL New Delhi India\")"
   ]
  },
  {
   "cell_type": "code",
   "execution_count": 133,
   "metadata": {},
   "outputs": [],
   "source": [
    "airline_=[]\n",
    "date_of_journey=[]\n",
    "source=[]\n",
    "destination=[]\n",
    "no_of_stops=[]\n",
    "duration=[]\n",
    "dept_time=[]\n",
    "arrival_time=[]\n",
    "price=[]"
   ]
  },
  {
   "cell_type": "code",
   "execution_count": 134,
   "metadata": {},
   "outputs": [],
   "source": [
    "\n",
    "for i in driver.find_elements_by_xpath('//div[@class=\"col-2 col-md-2\"]/span[2]'):\n",
    "    airline_.append(i.text)"
   ]
  },
  {
   "cell_type": "code",
   "execution_count": 135,
   "metadata": {},
   "outputs": [
    {
     "data": {
      "text/plain": [
       "30"
      ]
     },
     "execution_count": 135,
     "metadata": {},
     "output_type": "execute_result"
    }
   ],
   "source": [
    "len(airline_)"
   ]
  },
  {
   "cell_type": "code",
   "execution_count": 136,
   "metadata": {},
   "outputs": [],
   "source": [
    "source=[]\n",
    "for i in driver.find_elements_by_xpath('//div[@class=\"col-field time depart\"]/span[1]'):\n",
    "    source.append(i.text)"
   ]
  },
  {
   "cell_type": "code",
   "execution_count": 137,
   "metadata": {},
   "outputs": [
    {
     "data": {
      "text/plain": [
       "30"
      ]
     },
     "execution_count": 137,
     "metadata": {},
     "output_type": "execute_result"
    }
   ],
   "source": [
    "len(source)"
   ]
  },
  {
   "cell_type": "code",
   "execution_count": 138,
   "metadata": {},
   "outputs": [],
   "source": [
    "for i in driver.find_elements_by_xpath('//*[@class=\"col-field time return\"]/span[2]'):\n",
    "    destination.append(i.text)\n",
    "    "
   ]
  },
  {
   "cell_type": "code",
   "execution_count": 139,
   "metadata": {},
   "outputs": [
    {
     "data": {
      "text/plain": [
       "30"
      ]
     },
     "execution_count": 139,
     "metadata": {},
     "output_type": "execute_result"
    }
   ],
   "source": [
    "len(destination)"
   ]
  },
  {
   "cell_type": "code",
   "execution_count": 140,
   "metadata": {},
   "outputs": [],
   "source": [
    "for i in driver.find_elements_by_xpath('//*[@class=\"col-field stops ml-auto mr-auto\"]/div[3]'):\n",
    "    no_of_stops.append(i.text)"
   ]
  },
  {
   "cell_type": "code",
   "execution_count": 141,
   "metadata": {},
   "outputs": [
    {
     "data": {
      "text/plain": [
       "30"
      ]
     },
     "execution_count": 141,
     "metadata": {},
     "output_type": "execute_result"
    }
   ],
   "source": [
    "len(no_of_stops)"
   ]
  },
  {
   "cell_type": "code",
   "execution_count": 142,
   "metadata": {},
   "outputs": [],
   "source": [
    "for i in driver.find_elements_by_xpath('//*[@class=\"col-field stops ml-auto mr-auto\"]/div[1]'):\n",
    "    duration.append(i.text)"
   ]
  },
  {
   "cell_type": "code",
   "execution_count": 143,
   "metadata": {},
   "outputs": [
    {
     "data": {
      "text/plain": [
       "30"
      ]
     },
     "execution_count": 143,
     "metadata": {},
     "output_type": "execute_result"
    }
   ],
   "source": [
    "len(duration)"
   ]
  },
  {
   "cell_type": "code",
   "execution_count": 144,
   "metadata": {},
   "outputs": [],
   "source": [
    "for i in driver.find_elements_by_xpath('//div[@class=\"col-field time depart\"]/span[2]'):\n",
    "    dept_time.append(i.text)"
   ]
  },
  {
   "cell_type": "code",
   "execution_count": 145,
   "metadata": {},
   "outputs": [
    {
     "data": {
      "text/plain": [
       "30"
      ]
     },
     "execution_count": 145,
     "metadata": {},
     "output_type": "execute_result"
    }
   ],
   "source": [
    "len(dept_time)"
   ]
  },
  {
   "cell_type": "code",
   "execution_count": 146,
   "metadata": {},
   "outputs": [],
   "source": [
    "for i in driver.find_elements_by_xpath('//*[@class=\"col-field time return\"]/span[1]'):\n",
    "    arrival_time.append(i.text)"
   ]
  },
  {
   "cell_type": "code",
   "execution_count": 147,
   "metadata": {},
   "outputs": [
    {
     "data": {
      "text/plain": [
       "30"
      ]
     },
     "execution_count": 147,
     "metadata": {},
     "output_type": "execute_result"
    }
   ],
   "source": [
    "len(arrival_time)"
   ]
  },
  {
   "cell_type": "code",
   "execution_count": 149,
   "metadata": {},
   "outputs": [],
   "source": [
    "for i in driver.find_elements_by_xpath('//*[@id=\"flight_nav\"]/div/div[1]/div[1]/div/div/div/div[1]/h5/span[1]'):\n",
    "    price.append(i.text)              "
   ]
  },
  {
   "cell_type": "code",
   "execution_count": 150,
   "metadata": {},
   "outputs": [
    {
     "data": {
      "text/plain": [
       "30"
      ]
     },
     "execution_count": 150,
     "metadata": {},
     "output_type": "execute_result"
    }
   ],
   "source": [
    "len(price)"
   ]
  },
  {
   "cell_type": "code",
   "execution_count": null,
   "metadata": {},
   "outputs": [],
   "source": [
    "date=[]\n",
    "x=1\n",
    "while x<31:\n",
    "    p=print(\"24 oct\")\n",
    "    date.append(p)\n",
    "    x=x+1"
   ]
  },
  {
   "cell_type": "code",
   "execution_count": 176,
   "metadata": {},
   "outputs": [],
   "source": [
    "date=[]\n",
    "for i in range(31):\n",
    "    date.append(\"24 oct\")   "
   ]
  },
  {
   "cell_type": "code",
   "execution_count": 177,
   "metadata": {},
   "outputs": [
    {
     "data": {
      "text/plain": [
       "31"
      ]
     },
     "execution_count": 177,
     "metadata": {},
     "output_type": "execute_result"
    }
   ],
   "source": [
    "len(date)"
   ]
  },
  {
   "cell_type": "code",
   "execution_count": null,
   "metadata": {},
   "outputs": [],
   "source": [
    "airline_=[]\n",
    "date_of_journey=[]\n",
    "source=[]\n",
    "destination=[]\n",
    "no_of_stops=[]\n",
    "duration=[]\n",
    "dept_time=[]\n",
    "arrival_time=[]\n",
    "price=[]"
   ]
  },
  {
   "cell_type": "code",
   "execution_count": 178,
   "metadata": {},
   "outputs": [],
   "source": [
    "d1=pd.DataFrame({'Airline_':airline_, 'Date of Journey':date[:30],'Source':source,'Destination':destination, 'No of stops ':no_of_stops,'Duration':duration,'Departure time':dept_time,'Arrival time':arrival_time,'Price':price})\n"
   ]
  },
  {
   "cell_type": "code",
   "execution_count": 179,
   "metadata": {},
   "outputs": [
    {
     "data": {
      "text/html": [
       "<div>\n",
       "<style scoped>\n",
       "    .dataframe tbody tr th:only-of-type {\n",
       "        vertical-align: middle;\n",
       "    }\n",
       "\n",
       "    .dataframe tbody tr th {\n",
       "        vertical-align: top;\n",
       "    }\n",
       "\n",
       "    .dataframe thead th {\n",
       "        text-align: right;\n",
       "    }\n",
       "</style>\n",
       "<table border=\"1\" class=\"dataframe\">\n",
       "  <thead>\n",
       "    <tr style=\"text-align: right;\">\n",
       "      <th></th>\n",
       "      <th>Airline_</th>\n",
       "      <th>Date of Journey</th>\n",
       "      <th>Source</th>\n",
       "      <th>Destination</th>\n",
       "      <th>No of stops</th>\n",
       "      <th>Duration</th>\n",
       "      <th>Departure time</th>\n",
       "      <th>Arrival time</th>\n",
       "      <th>Price</th>\n",
       "    </tr>\n",
       "  </thead>\n",
       "  <tbody>\n",
       "    <tr>\n",
       "      <th>0</th>\n",
       "      <td>Spice Jet</td>\n",
       "      <td>24 oct</td>\n",
       "      <td>MAA</td>\n",
       "      <td>DEL</td>\n",
       "      <td>Non Stop</td>\n",
       "      <td>02h 50m</td>\n",
       "      <td>20:00</td>\n",
       "      <td>22:50</td>\n",
       "      <td>₹5858</td>\n",
       "    </tr>\n",
       "    <tr>\n",
       "      <th>1</th>\n",
       "      <td>Indigo Air</td>\n",
       "      <td>24 oct</td>\n",
       "      <td>MAA</td>\n",
       "      <td>DEL</td>\n",
       "      <td>Non Stop</td>\n",
       "      <td>03h 10m</td>\n",
       "      <td>21:50</td>\n",
       "      <td>01:00</td>\n",
       "      <td>₹5937</td>\n",
       "    </tr>\n",
       "    <tr>\n",
       "      <th>2</th>\n",
       "      <td>Spice Jet</td>\n",
       "      <td>24 oct</td>\n",
       "      <td>MAA</td>\n",
       "      <td>DEL</td>\n",
       "      <td>1 Stop</td>\n",
       "      <td>05h 30m</td>\n",
       "      <td>19:50</td>\n",
       "      <td>01:20</td>\n",
       "      <td>₹6290</td>\n",
       "    </tr>\n",
       "    <tr>\n",
       "      <th>3</th>\n",
       "      <td>Air Asia</td>\n",
       "      <td>24 oct</td>\n",
       "      <td>MAA</td>\n",
       "      <td>DEL</td>\n",
       "      <td>1 Stop</td>\n",
       "      <td>15h 25m</td>\n",
       "      <td>22:40</td>\n",
       "      <td>14:05</td>\n",
       "      <td>₹6853</td>\n",
       "    </tr>\n",
       "    <tr>\n",
       "      <th>4</th>\n",
       "      <td>Vistara</td>\n",
       "      <td>24 oct</td>\n",
       "      <td>MAA</td>\n",
       "      <td>DEL</td>\n",
       "      <td>Non Stop</td>\n",
       "      <td>02h 50m</td>\n",
       "      <td>21:05</td>\n",
       "      <td>23:55</td>\n",
       "      <td>₹7286</td>\n",
       "    </tr>\n",
       "    <tr>\n",
       "      <th>5</th>\n",
       "      <td>Spice Jet</td>\n",
       "      <td>24 oct</td>\n",
       "      <td>MAA</td>\n",
       "      <td>DEL</td>\n",
       "      <td>1 Stop</td>\n",
       "      <td>13h 15m</td>\n",
       "      <td>19:50</td>\n",
       "      <td>09:05</td>\n",
       "      <td>₹8172</td>\n",
       "    </tr>\n",
       "    <tr>\n",
       "      <th>6</th>\n",
       "      <td>Air Asia</td>\n",
       "      <td>24 oct</td>\n",
       "      <td>MAA</td>\n",
       "      <td>DEL</td>\n",
       "      <td>1 Stop</td>\n",
       "      <td>13h 50m</td>\n",
       "      <td>21:05</td>\n",
       "      <td>10:55</td>\n",
       "      <td>₹8440</td>\n",
       "    </tr>\n",
       "    <tr>\n",
       "      <th>7</th>\n",
       "      <td>Air Asia</td>\n",
       "      <td>24 oct</td>\n",
       "      <td>MAA</td>\n",
       "      <td>DEL</td>\n",
       "      <td>2 Stop</td>\n",
       "      <td>12h 50m</td>\n",
       "      <td>21:05</td>\n",
       "      <td>09:55</td>\n",
       "      <td>₹10588</td>\n",
       "    </tr>\n",
       "    <tr>\n",
       "      <th>8</th>\n",
       "      <td>Vistara</td>\n",
       "      <td>24 oct</td>\n",
       "      <td>MAA</td>\n",
       "      <td>DEL</td>\n",
       "      <td>1 Stop</td>\n",
       "      <td>25h 50m</td>\n",
       "      <td>21:10</td>\n",
       "      <td>23:00</td>\n",
       "      <td>₹14190</td>\n",
       "    </tr>\n",
       "    <tr>\n",
       "      <th>9</th>\n",
       "      <td>Vistara</td>\n",
       "      <td>24 oct</td>\n",
       "      <td>MAA</td>\n",
       "      <td>DEL</td>\n",
       "      <td>1 Stop</td>\n",
       "      <td>27h 00m</td>\n",
       "      <td>21:10</td>\n",
       "      <td>00:10</td>\n",
       "      <td>₹14190</td>\n",
       "    </tr>\n",
       "    <tr>\n",
       "      <th>10</th>\n",
       "      <td>Vistara</td>\n",
       "      <td>24 oct</td>\n",
       "      <td>MAA</td>\n",
       "      <td>DEL</td>\n",
       "      <td>1 Stop</td>\n",
       "      <td>27h 45m</td>\n",
       "      <td>21:10</td>\n",
       "      <td>00:55</td>\n",
       "      <td>₹14190</td>\n",
       "    </tr>\n",
       "    <tr>\n",
       "      <th>11</th>\n",
       "      <td>Vistara</td>\n",
       "      <td>24 oct</td>\n",
       "      <td>MAA</td>\n",
       "      <td>DEL</td>\n",
       "      <td>1 Stop</td>\n",
       "      <td>22h 30m</td>\n",
       "      <td>21:10</td>\n",
       "      <td>19:40</td>\n",
       "      <td>₹14326</td>\n",
       "    </tr>\n",
       "    <tr>\n",
       "      <th>12</th>\n",
       "      <td>Vistara</td>\n",
       "      <td>24 oct</td>\n",
       "      <td>MAA</td>\n",
       "      <td>DEL</td>\n",
       "      <td>1 Stop</td>\n",
       "      <td>23h 30m</td>\n",
       "      <td>21:10</td>\n",
       "      <td>20:40</td>\n",
       "      <td>₹14326</td>\n",
       "    </tr>\n",
       "    <tr>\n",
       "      <th>13</th>\n",
       "      <td>Vistara</td>\n",
       "      <td>24 oct</td>\n",
       "      <td>MAA</td>\n",
       "      <td>DEL</td>\n",
       "      <td>1 Stop</td>\n",
       "      <td>24h 45m</td>\n",
       "      <td>21:10</td>\n",
       "      <td>21:55</td>\n",
       "      <td>₹14326</td>\n",
       "    </tr>\n",
       "    <tr>\n",
       "      <th>14</th>\n",
       "      <td>Vistara</td>\n",
       "      <td>24 oct</td>\n",
       "      <td>MAA</td>\n",
       "      <td>DEL</td>\n",
       "      <td>1 Stop</td>\n",
       "      <td>19h 45m</td>\n",
       "      <td>21:10</td>\n",
       "      <td>16:55</td>\n",
       "      <td>₹14788</td>\n",
       "    </tr>\n",
       "    <tr>\n",
       "      <th>15</th>\n",
       "      <td>Vistara</td>\n",
       "      <td>24 oct</td>\n",
       "      <td>MAA</td>\n",
       "      <td>DEL</td>\n",
       "      <td>1 Stop</td>\n",
       "      <td>20h 55m</td>\n",
       "      <td>21:10</td>\n",
       "      <td>18:05</td>\n",
       "      <td>₹14788</td>\n",
       "    </tr>\n",
       "    <tr>\n",
       "      <th>16</th>\n",
       "      <td>Vistara</td>\n",
       "      <td>24 oct</td>\n",
       "      <td>MAA</td>\n",
       "      <td>DEL</td>\n",
       "      <td>1 Stop</td>\n",
       "      <td>16h 55m</td>\n",
       "      <td>21:10</td>\n",
       "      <td>14:05</td>\n",
       "      <td>₹15733</td>\n",
       "    </tr>\n",
       "    <tr>\n",
       "      <th>17</th>\n",
       "      <td>Vistara</td>\n",
       "      <td>24 oct</td>\n",
       "      <td>MAA</td>\n",
       "      <td>DEL</td>\n",
       "      <td>1 Stop</td>\n",
       "      <td>15h 30m</td>\n",
       "      <td>21:10</td>\n",
       "      <td>12:40</td>\n",
       "      <td>₹16258</td>\n",
       "    </tr>\n",
       "    <tr>\n",
       "      <th>18</th>\n",
       "      <td>Vistara</td>\n",
       "      <td>24 oct</td>\n",
       "      <td>MAA</td>\n",
       "      <td>DEL</td>\n",
       "      <td>2 Stop</td>\n",
       "      <td>25h 40m</td>\n",
       "      <td>21:10</td>\n",
       "      <td>22:50</td>\n",
       "      <td>₹19303</td>\n",
       "    </tr>\n",
       "    <tr>\n",
       "      <th>19</th>\n",
       "      <td>Vistara</td>\n",
       "      <td>24 oct</td>\n",
       "      <td>MAA</td>\n",
       "      <td>DEL</td>\n",
       "      <td>2 Stop</td>\n",
       "      <td>23h 00m</td>\n",
       "      <td>21:10</td>\n",
       "      <td>20:10</td>\n",
       "      <td>₹19408</td>\n",
       "    </tr>\n",
       "    <tr>\n",
       "      <th>20</th>\n",
       "      <td>Vistara</td>\n",
       "      <td>24 oct</td>\n",
       "      <td>MAA</td>\n",
       "      <td>DEL</td>\n",
       "      <td>2 Stop</td>\n",
       "      <td>22h 45m</td>\n",
       "      <td>21:10</td>\n",
       "      <td>19:55</td>\n",
       "      <td>₹20616</td>\n",
       "    </tr>\n",
       "    <tr>\n",
       "      <th>21</th>\n",
       "      <td>Vistara</td>\n",
       "      <td>24 oct</td>\n",
       "      <td>MAA</td>\n",
       "      <td>DEL</td>\n",
       "      <td>2 Stop</td>\n",
       "      <td>25h 40m</td>\n",
       "      <td>21:10</td>\n",
       "      <td>22:50</td>\n",
       "      <td>₹20826</td>\n",
       "    </tr>\n",
       "    <tr>\n",
       "      <th>22</th>\n",
       "      <td>Vistara</td>\n",
       "      <td>24 oct</td>\n",
       "      <td>MAA</td>\n",
       "      <td>DEL</td>\n",
       "      <td>2 Stop</td>\n",
       "      <td>15h 20m</td>\n",
       "      <td>21:10</td>\n",
       "      <td>12:30</td>\n",
       "      <td>₹20931</td>\n",
       "    </tr>\n",
       "    <tr>\n",
       "      <th>23</th>\n",
       "      <td>Vistara</td>\n",
       "      <td>24 oct</td>\n",
       "      <td>MAA</td>\n",
       "      <td>DEL</td>\n",
       "      <td>2 Stop</td>\n",
       "      <td>23h 00m</td>\n",
       "      <td>21:10</td>\n",
       "      <td>20:10</td>\n",
       "      <td>₹20931</td>\n",
       "    </tr>\n",
       "    <tr>\n",
       "      <th>24</th>\n",
       "      <td>Vistara</td>\n",
       "      <td>24 oct</td>\n",
       "      <td>MAA</td>\n",
       "      <td>DEL</td>\n",
       "      <td>1 Stop</td>\n",
       "      <td>12h 30m</td>\n",
       "      <td>21:10</td>\n",
       "      <td>09:40</td>\n",
       "      <td>₹21508</td>\n",
       "    </tr>\n",
       "    <tr>\n",
       "      <th>25</th>\n",
       "      <td>Vistara</td>\n",
       "      <td>24 oct</td>\n",
       "      <td>MAA</td>\n",
       "      <td>DEL</td>\n",
       "      <td>2 Stop</td>\n",
       "      <td>19h 20m</td>\n",
       "      <td>21:10</td>\n",
       "      <td>16:30</td>\n",
       "      <td>₹21981</td>\n",
       "    </tr>\n",
       "    <tr>\n",
       "      <th>26</th>\n",
       "      <td>Vistara</td>\n",
       "      <td>24 oct</td>\n",
       "      <td>MAA</td>\n",
       "      <td>DEL</td>\n",
       "      <td>2 Stop</td>\n",
       "      <td>17h 00m</td>\n",
       "      <td>21:10</td>\n",
       "      <td>14:10</td>\n",
       "      <td>₹22821</td>\n",
       "    </tr>\n",
       "    <tr>\n",
       "      <th>27</th>\n",
       "      <td>Vistara</td>\n",
       "      <td>24 oct</td>\n",
       "      <td>MAA</td>\n",
       "      <td>DEL</td>\n",
       "      <td>2 Stop</td>\n",
       "      <td>17h 00m</td>\n",
       "      <td>21:10</td>\n",
       "      <td>14:10</td>\n",
       "      <td>₹24081</td>\n",
       "    </tr>\n",
       "    <tr>\n",
       "      <th>28</th>\n",
       "      <td>Vistara</td>\n",
       "      <td>24 oct</td>\n",
       "      <td>MAA</td>\n",
       "      <td>DEL</td>\n",
       "      <td>1 Stop</td>\n",
       "      <td>13h 50m</td>\n",
       "      <td>21:10</td>\n",
       "      <td>11:00</td>\n",
       "      <td>₹24448</td>\n",
       "    </tr>\n",
       "    <tr>\n",
       "      <th>29</th>\n",
       "      <td>Vistara</td>\n",
       "      <td>24 oct</td>\n",
       "      <td>MAA</td>\n",
       "      <td>DEL</td>\n",
       "      <td>2 Stop</td>\n",
       "      <td>19h 35m</td>\n",
       "      <td>21:10</td>\n",
       "      <td>16:45</td>\n",
       "      <td>₹24553</td>\n",
       "    </tr>\n",
       "  </tbody>\n",
       "</table>\n",
       "</div>"
      ],
      "text/plain": [
       "      Airline_ Date of Journey Source Destination No of stops  Duration  \\\n",
       "0    Spice Jet          24 oct    MAA         DEL     Non Stop  02h 50m   \n",
       "1   Indigo Air          24 oct    MAA         DEL     Non Stop  03h 10m   \n",
       "2    Spice Jet          24 oct    MAA         DEL       1 Stop  05h 30m   \n",
       "3     Air Asia          24 oct    MAA         DEL       1 Stop  15h 25m   \n",
       "4      Vistara          24 oct    MAA         DEL     Non Stop  02h 50m   \n",
       "5    Spice Jet          24 oct    MAA         DEL       1 Stop  13h 15m   \n",
       "6     Air Asia          24 oct    MAA         DEL       1 Stop  13h 50m   \n",
       "7     Air Asia          24 oct    MAA         DEL       2 Stop  12h 50m   \n",
       "8      Vistara          24 oct    MAA         DEL       1 Stop  25h 50m   \n",
       "9      Vistara          24 oct    MAA         DEL       1 Stop  27h 00m   \n",
       "10     Vistara          24 oct    MAA         DEL       1 Stop  27h 45m   \n",
       "11     Vistara          24 oct    MAA         DEL       1 Stop  22h 30m   \n",
       "12     Vistara          24 oct    MAA         DEL       1 Stop  23h 30m   \n",
       "13     Vistara          24 oct    MAA         DEL       1 Stop  24h 45m   \n",
       "14     Vistara          24 oct    MAA         DEL       1 Stop  19h 45m   \n",
       "15     Vistara          24 oct    MAA         DEL       1 Stop  20h 55m   \n",
       "16     Vistara          24 oct    MAA         DEL       1 Stop  16h 55m   \n",
       "17     Vistara          24 oct    MAA         DEL       1 Stop  15h 30m   \n",
       "18     Vistara          24 oct    MAA         DEL       2 Stop  25h 40m   \n",
       "19     Vistara          24 oct    MAA         DEL       2 Stop  23h 00m   \n",
       "20     Vistara          24 oct    MAA         DEL       2 Stop  22h 45m   \n",
       "21     Vistara          24 oct    MAA         DEL       2 Stop  25h 40m   \n",
       "22     Vistara          24 oct    MAA         DEL       2 Stop  15h 20m   \n",
       "23     Vistara          24 oct    MAA         DEL       2 Stop  23h 00m   \n",
       "24     Vistara          24 oct    MAA         DEL       1 Stop  12h 30m   \n",
       "25     Vistara          24 oct    MAA         DEL       2 Stop  19h 20m   \n",
       "26     Vistara          24 oct    MAA         DEL       2 Stop  17h 00m   \n",
       "27     Vistara          24 oct    MAA         DEL       2 Stop  17h 00m   \n",
       "28     Vistara          24 oct    MAA         DEL       1 Stop  13h 50m   \n",
       "29     Vistara          24 oct    MAA         DEL       2 Stop  19h 35m   \n",
       "\n",
       "   Departure time Arrival time   Price  \n",
       "0           20:00        22:50   ₹5858  \n",
       "1           21:50        01:00   ₹5937  \n",
       "2           19:50        01:20   ₹6290  \n",
       "3           22:40        14:05   ₹6853  \n",
       "4           21:05        23:55   ₹7286  \n",
       "5           19:50        09:05   ₹8172  \n",
       "6           21:05        10:55   ₹8440  \n",
       "7           21:05        09:55  ₹10588  \n",
       "8           21:10        23:00  ₹14190  \n",
       "9           21:10        00:10  ₹14190  \n",
       "10          21:10        00:55  ₹14190  \n",
       "11          21:10        19:40  ₹14326  \n",
       "12          21:10        20:40  ₹14326  \n",
       "13          21:10        21:55  ₹14326  \n",
       "14          21:10        16:55  ₹14788  \n",
       "15          21:10        18:05  ₹14788  \n",
       "16          21:10        14:05  ₹15733  \n",
       "17          21:10        12:40  ₹16258  \n",
       "18          21:10        22:50  ₹19303  \n",
       "19          21:10        20:10  ₹19408  \n",
       "20          21:10        19:55  ₹20616  \n",
       "21          21:10        22:50  ₹20826  \n",
       "22          21:10        12:30  ₹20931  \n",
       "23          21:10        20:10  ₹20931  \n",
       "24          21:10        09:40  ₹21508  \n",
       "25          21:10        16:30  ₹21981  \n",
       "26          21:10        14:10  ₹22821  \n",
       "27          21:10        14:10  ₹24081  \n",
       "28          21:10        11:00  ₹24448  \n",
       "29          21:10        16:45  ₹24553  "
      ]
     },
     "execution_count": 179,
     "metadata": {},
     "output_type": "execute_result"
    }
   ],
   "source": [
    "d1"
   ]
  },
  {
   "cell_type": "code",
   "execution_count": 180,
   "metadata": {},
   "outputs": [
    {
     "name": "stdout",
     "output_type": "stream",
     "text": [
      "DataFrame is written to Excel File successfully.\n"
     ]
    }
   ],
   "source": [
    "file_name = '24 oct.xlsx'\n",
    "d1.to_excel(file_name)\n",
    "print('DataFrame is written to Excel File successfully.')\n"
   ]
  },
  {
   "cell_type": "code",
   "execution_count": 184,
   "metadata": {},
   "outputs": [],
   "source": [
    "airline_=[]\n",
    "date=[]\n",
    "source=[]\n",
    "destination=[]\n",
    "no_of_stops=[]\n",
    "duration=[]\n",
    "dept_time=[]\n",
    "arrival_time=[]\n",
    "price=[]\n",
    "\n",
    "for i in driver.find_elements_by_xpath('//div[@class=\"col-2 col-md-2\"]/span[2]'):\n",
    "    airline_.append(i.text)\n",
    "    \n",
    "    \n",
    "for i in driver.find_elements_by_xpath('//div[@class=\"col-field time depart\"]/span[1]'):\n",
    "    source.append(i.text)    \n",
    "    \n",
    "\n",
    "for i in driver.find_elements_by_xpath('//*[@class=\"col-field time return\"]/span[2]'):\n",
    "    destination.append(i.text)\n",
    "    \n",
    "\n",
    "for i in driver.find_elements_by_xpath('//*[@class=\"col-field stops ml-auto mr-auto\"]/div[3]'):\n",
    "    no_of_stops.append(i.text)\n",
    "    \n",
    "\n",
    "for i in driver.find_elements_by_xpath('//*[@class=\"col-field stops ml-auto mr-auto\"]/div[1]'):\n",
    "    duration.append(i.text)\n",
    "    \n",
    "\n",
    "for i in driver.find_elements_by_xpath('//div[@class=\"col-field time depart\"]/span[2]'):\n",
    "    dept_time.append(i.text)\n",
    "    \n",
    "    \n",
    "for i in driver.find_elements_by_xpath('//*[@class=\"col-field time return\"]/span[1]'):\n",
    "    arrival_time.append(i.text)\n",
    "    \n",
    "    \n",
    "for i in driver.find_elements_by_xpath('//*[@id=\"flight_nav\"]/div/div[1]/div[1]/div/div/div/div[1]/h5/span[1]'):\n",
    "    price.append(i.text)\n",
    "    \n",
    "    \n"
   ]
  },
  {
   "cell_type": "code",
   "execution_count": 188,
   "metadata": {},
   "outputs": [],
   "source": [
    "date=[]\n",
    "for i in range(77):\n",
    "    date.append(\"25 oct\")   "
   ]
  },
  {
   "cell_type": "code",
   "execution_count": 189,
   "metadata": {},
   "outputs": [
    {
     "name": "stdout",
     "output_type": "stream",
     "text": [
      "77 77 77 77 77 77 77 77 77\n"
     ]
    }
   ],
   "source": [
    "print(len(airline_),len(date),len(source),len(destination),len(no_of_stops),len(duration),len(dept_time),len(arrival_time),len(price))"
   ]
  },
  {
   "cell_type": "code",
   "execution_count": 190,
   "metadata": {},
   "outputs": [],
   "source": [
    "d2=pd.DataFrame({'Airline_':airline_, 'Date of Journey':date,'Source':source,'Destination':destination, 'No of stops ':no_of_stops,'Duration':duration,'Departure time':dept_time,'Arrival time':arrival_time,'Price':price})\n"
   ]
  },
  {
   "cell_type": "code",
   "execution_count": 191,
   "metadata": {},
   "outputs": [
    {
     "name": "stdout",
     "output_type": "stream",
     "text": [
      "DataFrame is written to Excel File successfully.\n"
     ]
    }
   ],
   "source": [
    "file_name = '25 oct.xlsx'\n",
    "d2.to_excel(file_name)\n",
    "print('DataFrame is written to Excel File successfully.')\n"
   ]
  },
  {
   "cell_type": "code",
   "execution_count": 193,
   "metadata": {},
   "outputs": [],
   "source": [
    "driver.find_element_by_xpath('//*[@id=\"matrix_nav\"]/div[2]/div/nav/div/div[1]/div/div[2]/a/div[1]').click()"
   ]
  },
  {
   "cell_type": "code",
   "execution_count": 196,
   "metadata": {},
   "outputs": [],
   "source": [
    "airline_=[]\n",
    "date=[]\n",
    "source=[]\n",
    "destination=[]\n",
    "no_of_stops=[]\n",
    "duration=[]\n",
    "dept_time=[]\n",
    "arrival_time=[]\n",
    "price=[]\n",
    "\n",
    "for i in driver.find_elements_by_xpath('//div[@class=\"col-2 col-md-2\"]/span[2]'):\n",
    "    airline_.append(i.text)\n",
    "    \n",
    "    \n",
    "for i in driver.find_elements_by_xpath('//div[@class=\"col-field time depart\"]/span[1]'):\n",
    "    source.append(i.text)    \n",
    "    \n",
    "\n",
    "for i in driver.find_elements_by_xpath('//*[@class=\"col-field time return\"]/span[2]'):\n",
    "    destination.append(i.text)\n",
    "    \n",
    "\n",
    "for i in driver.find_elements_by_xpath('//*[@class=\"col-field stops ml-auto mr-auto\"]/div[3]'):\n",
    "    no_of_stops.append(i.text)\n",
    "    \n",
    "\n",
    "for i in driver.find_elements_by_xpath('//*[@class=\"col-field stops ml-auto mr-auto\"]/div[1]'):\n",
    "    duration.append(i.text)\n",
    "    \n",
    "\n",
    "for i in driver.find_elements_by_xpath('//div[@class=\"col-field time depart\"]/span[2]'):\n",
    "    dept_time.append(i.text)\n",
    "    \n",
    "    \n",
    "for i in driver.find_elements_by_xpath('//*[@class=\"col-field time return\"]/span[1]'):\n",
    "    arrival_time.append(i.text)\n",
    "    \n",
    "    \n",
    "for i in driver.find_elements_by_xpath('//*[@id=\"flight_nav\"]/div/div[1]/div[1]/div/div/div/div[1]/h5/span[1]'):\n",
    "    price.append(i.text)\n",
    "    "
   ]
  },
  {
   "cell_type": "code",
   "execution_count": 197,
   "metadata": {},
   "outputs": [
    {
     "name": "stdout",
     "output_type": "stream",
     "text": [
      "114 0 114 114 114 114 114 114 114\n"
     ]
    }
   ],
   "source": [
    "print(len(airline_),len(date),len(source),len(destination),len(no_of_stops),len(duration),len(dept_time),len(arrival_time),len(price))"
   ]
  },
  {
   "cell_type": "code",
   "execution_count": 198,
   "metadata": {},
   "outputs": [],
   "source": [
    "date=[]\n",
    "for i in range(114):\n",
    "    date.append(\"26 oct\")   "
   ]
  },
  {
   "cell_type": "code",
   "execution_count": 199,
   "metadata": {},
   "outputs": [
    {
     "name": "stdout",
     "output_type": "stream",
     "text": [
      "114 114 114 114 114 114 114 114 114\n"
     ]
    }
   ],
   "source": [
    "print(len(airline_),len(date),len(source),len(destination),len(no_of_stops),len(duration),len(dept_time),len(arrival_time),len(price))"
   ]
  },
  {
   "cell_type": "code",
   "execution_count": 200,
   "metadata": {},
   "outputs": [],
   "source": [
    "d3=pd.DataFrame({'Airline_':airline_, 'Date of Journey':date,'Source':source,'Destination':destination, 'No of stops ':no_of_stops,'Duration':duration,'Departure time':dept_time,'Arrival time':arrival_time,'Price':price})\n"
   ]
  },
  {
   "cell_type": "code",
   "execution_count": 201,
   "metadata": {},
   "outputs": [
    {
     "name": "stdout",
     "output_type": "stream",
     "text": [
      "DataFrame is written to Excel File successfully.\n"
     ]
    }
   ],
   "source": [
    "file_name = '26 oct.xlsx'\n",
    "d3.to_excel(file_name)\n",
    "print('DataFrame is written to Excel File successfully.')\n"
   ]
  },
  {
   "cell_type": "code",
   "execution_count": 202,
   "metadata": {},
   "outputs": [],
   "source": [
    "driver.find_element_by_xpath('//*[@id=\"matrix_nav\"]/div[2]/div/nav/div/div[1]/div/div[3]/a/div[1]').click()"
   ]
  },
  {
   "cell_type": "code",
   "execution_count": 205,
   "metadata": {},
   "outputs": [],
   "source": [
    "airline_=[]\n",
    "date=[]\n",
    "source=[]\n",
    "destination=[]\n",
    "no_of_stops=[]\n",
    "duration=[]\n",
    "dept_time=[]\n",
    "arrival_time=[]\n",
    "price=[]\n",
    "\n",
    "for i in driver.find_elements_by_xpath('//div[@class=\"col-2 col-md-2\"]/span[2]'):\n",
    "    airline_.append(i.text)\n",
    "    \n",
    "    \n",
    "for i in driver.find_elements_by_xpath('//div[@class=\"col-field time depart\"]/span[1]'):\n",
    "    source.append(i.text)    \n",
    "    \n",
    "\n",
    "for i in driver.find_elements_by_xpath('//*[@class=\"col-field time return\"]/span[2]'):\n",
    "    destination.append(i.text)\n",
    "    \n",
    "\n",
    "for i in driver.find_elements_by_xpath('//*[@class=\"col-field stops ml-auto mr-auto\"]/div[3]'):\n",
    "    no_of_stops.append(i.text)\n",
    "    \n",
    "\n",
    "for i in driver.find_elements_by_xpath('//*[@class=\"col-field stops ml-auto mr-auto\"]/div[1]'):\n",
    "    duration.append(i.text)\n",
    "    \n",
    "\n",
    "for i in driver.find_elements_by_xpath('//div[@class=\"col-field time depart\"]/span[2]'):\n",
    "    dept_time.append(i.text)\n",
    "    \n",
    "    \n",
    "for i in driver.find_elements_by_xpath('//*[@class=\"col-field time return\"]/span[1]'):\n",
    "    arrival_time.append(i.text)\n",
    "    \n",
    "    \n",
    "for i in driver.find_elements_by_xpath('//*[@id=\"flight_nav\"]/div/div[1]/div[1]/div/div/div/div[1]/h5/span[1]'):\n",
    "    price.append(i.text)\n",
    "    "
   ]
  },
  {
   "cell_type": "code",
   "execution_count": 206,
   "metadata": {},
   "outputs": [
    {
     "name": "stdout",
     "output_type": "stream",
     "text": [
      "120 0 120 120 120 120 120 120 120\n"
     ]
    }
   ],
   "source": [
    "print(len(airline_),len(date),len(source),len(destination),len(no_of_stops),len(duration),len(dept_time),len(arrival_time),len(price))"
   ]
  },
  {
   "cell_type": "code",
   "execution_count": 207,
   "metadata": {},
   "outputs": [],
   "source": [
    "date=[]\n",
    "for i in range(120):\n",
    "    date.append(\"27 oct\")   "
   ]
  },
  {
   "cell_type": "code",
   "execution_count": 208,
   "metadata": {},
   "outputs": [
    {
     "name": "stdout",
     "output_type": "stream",
     "text": [
      "120 120 120 120 120 120 120 120 120\n"
     ]
    }
   ],
   "source": [
    "print(len(airline_),len(date),len(source),len(destination),len(no_of_stops),len(duration),len(dept_time),len(arrival_time),len(price))"
   ]
  },
  {
   "cell_type": "code",
   "execution_count": 209,
   "metadata": {},
   "outputs": [],
   "source": [
    "d4=pd.DataFrame({'Airline_':airline_, 'Date of Journey':date,'Source':source,'Destination':destination, 'No of stops ':no_of_stops,'Duration':duration,'Departure time':dept_time,'Arrival time':arrival_time,'Price':price})\n"
   ]
  },
  {
   "cell_type": "code",
   "execution_count": 210,
   "metadata": {},
   "outputs": [
    {
     "name": "stdout",
     "output_type": "stream",
     "text": [
      "DataFrame is written to Excel File successfully.\n"
     ]
    }
   ],
   "source": [
    "file_name = '27 oct.xlsx'    \n",
    "d4.to_excel(file_name)\n",
    "print('DataFrame is written to Excel File successfully.')\n"
   ]
  },
  {
   "cell_type": "code",
   "execution_count": 220,
   "metadata": {},
   "outputs": [],
   "source": [
    "driver.find_element_by_xpath('//*[@id=\"matrix_nav\"]/div[2]/div/nav/div/div[1]/div/div[4]/a/div[1]').click()"
   ]
  },
  {
   "cell_type": "code",
   "execution_count": 221,
   "metadata": {},
   "outputs": [],
   "source": [
    "airline_=[]\n",
    "date=[]\n",
    "source=[]\n",
    "destination=[]\n",
    "no_of_stops=[]\n",
    "duration=[]\n",
    "dept_time=[]\n",
    "arrival_time=[]\n",
    "price=[]\n",
    "\n",
    "for i in driver.find_elements_by_xpath('//div[@class=\"col-2 col-md-2\"]/span[2]'):\n",
    "    airline_.append(i.text)\n",
    "    \n",
    "    \n",
    "for i in driver.find_elements_by_xpath('//div[@class=\"col-field time depart\"]/span[1]'):\n",
    "    source.append(i.text)    \n",
    "    \n",
    "\n",
    "for i in driver.find_elements_by_xpath('//*[@class=\"col-field time return\"]/span[2]'):\n",
    "    destination.append(i.text)\n",
    "    \n",
    "\n",
    "for i in driver.find_elements_by_xpath('//*[@class=\"col-field stops ml-auto mr-auto\"]/div[3]'):\n",
    "    no_of_stops.append(i.text)\n",
    "    \n",
    "\n",
    "for i in driver.find_elements_by_xpath('//*[@class=\"col-field stops ml-auto mr-auto\"]/div[1]'):\n",
    "    duration.append(i.text)\n",
    "    \n",
    "\n",
    "for i in driver.find_elements_by_xpath('//div[@class=\"col-field time depart\"]/span[2]'):\n",
    "    dept_time.append(i.text)\n",
    "    \n",
    "    \n",
    "for i in driver.find_elements_by_xpath('//*[@class=\"col-field time return\"]/span[1]'):\n",
    "    arrival_time.append(i.text)\n",
    "    \n",
    "    \n",
    "for i in driver.find_elements_by_xpath('//*[@id=\"flight_nav\"]/div/div[1]/div[1]/div/div/div/div[1]/h5/span[1]'):\n",
    "    price.append(i.text)\n",
    "    "
   ]
  },
  {
   "cell_type": "code",
   "execution_count": 222,
   "metadata": {},
   "outputs": [
    {
     "name": "stdout",
     "output_type": "stream",
     "text": [
      "130 0 130 130 130 130 130 130 130\n"
     ]
    }
   ],
   "source": [
    "print(len(airline_),len(date),len(source),len(destination),len(no_of_stops),len(duration),len(dept_time),len(arrival_time),len(price))"
   ]
  },
  {
   "cell_type": "code",
   "execution_count": 223,
   "metadata": {},
   "outputs": [],
   "source": [
    "date=[]\n",
    "for i in range(130):\n",
    "    date.append(\"29 oct\")   "
   ]
  },
  {
   "cell_type": "code",
   "execution_count": 224,
   "metadata": {},
   "outputs": [
    {
     "name": "stdout",
     "output_type": "stream",
     "text": [
      "130 130 130 130 130 130 130 130 130\n"
     ]
    }
   ],
   "source": [
    "print(len(airline_),len(date),len(source),len(destination),len(no_of_stops),len(duration),len(dept_time),len(arrival_time),len(price))"
   ]
  },
  {
   "cell_type": "code",
   "execution_count": 225,
   "metadata": {},
   "outputs": [],
   "source": [
    "d6=pd.DataFrame({'Airline_':airline_, 'Date of Journey':date,'Source':source,'Destination':destination, 'No of stops ':no_of_stops,'Duration':duration,'Departure time':dept_time,'Arrival time':arrival_time,'Price':price})\n"
   ]
  },
  {
   "cell_type": "code",
   "execution_count": 226,
   "metadata": {},
   "outputs": [
    {
     "data": {
      "text/html": [
       "<div>\n",
       "<style scoped>\n",
       "    .dataframe tbody tr th:only-of-type {\n",
       "        vertical-align: middle;\n",
       "    }\n",
       "\n",
       "    .dataframe tbody tr th {\n",
       "        vertical-align: top;\n",
       "    }\n",
       "\n",
       "    .dataframe thead th {\n",
       "        text-align: right;\n",
       "    }\n",
       "</style>\n",
       "<table border=\"1\" class=\"dataframe\">\n",
       "  <thead>\n",
       "    <tr style=\"text-align: right;\">\n",
       "      <th></th>\n",
       "      <th>Airline_</th>\n",
       "      <th>Date of Journey</th>\n",
       "      <th>Source</th>\n",
       "      <th>Destination</th>\n",
       "      <th>No of stops</th>\n",
       "      <th>Duration</th>\n",
       "      <th>Departure time</th>\n",
       "      <th>Arrival time</th>\n",
       "      <th>Price</th>\n",
       "    </tr>\n",
       "  </thead>\n",
       "  <tbody>\n",
       "    <tr>\n",
       "      <th>0</th>\n",
       "      <td>Spice Jet</td>\n",
       "      <td>29 oct</td>\n",
       "      <td>MAA</td>\n",
       "      <td>DEL</td>\n",
       "      <td>1 Stop</td>\n",
       "      <td>24h 05m</td>\n",
       "      <td>14:15</td>\n",
       "      <td>14:20</td>\n",
       "      <td>₹7381</td>\n",
       "    </tr>\n",
       "    <tr>\n",
       "      <th>1</th>\n",
       "      <td>Spice Jet</td>\n",
       "      <td>29 oct</td>\n",
       "      <td>MAA</td>\n",
       "      <td>DEL</td>\n",
       "      <td>1 Stop</td>\n",
       "      <td>04h 45m</td>\n",
       "      <td>06:10</td>\n",
       "      <td>10:55</td>\n",
       "      <td>₹7493</td>\n",
       "    </tr>\n",
       "    <tr>\n",
       "      <th>2</th>\n",
       "      <td>Indigo Air</td>\n",
       "      <td>29 oct</td>\n",
       "      <td>MAA</td>\n",
       "      <td>DEL</td>\n",
       "      <td>1 Stop</td>\n",
       "      <td>05h 00m</td>\n",
       "      <td>15:50</td>\n",
       "      <td>20:50</td>\n",
       "      <td>₹7752</td>\n",
       "    </tr>\n",
       "    <tr>\n",
       "      <th>3</th>\n",
       "      <td>Indigo Air</td>\n",
       "      <td>29 oct</td>\n",
       "      <td>MAA</td>\n",
       "      <td>DEL</td>\n",
       "      <td>1 Stop</td>\n",
       "      <td>06h 05m</td>\n",
       "      <td>15:50</td>\n",
       "      <td>21:55</td>\n",
       "      <td>₹7752</td>\n",
       "    </tr>\n",
       "    <tr>\n",
       "      <th>4</th>\n",
       "      <td>Indigo Air</td>\n",
       "      <td>29 oct</td>\n",
       "      <td>MAA</td>\n",
       "      <td>DEL</td>\n",
       "      <td>1 Stop</td>\n",
       "      <td>06h 35m</td>\n",
       "      <td>12:20</td>\n",
       "      <td>18:55</td>\n",
       "      <td>₹7752</td>\n",
       "    </tr>\n",
       "    <tr>\n",
       "      <th>...</th>\n",
       "      <td>...</td>\n",
       "      <td>...</td>\n",
       "      <td>...</td>\n",
       "      <td>...</td>\n",
       "      <td>...</td>\n",
       "      <td>...</td>\n",
       "      <td>...</td>\n",
       "      <td>...</td>\n",
       "      <td>...</td>\n",
       "    </tr>\n",
       "    <tr>\n",
       "      <th>125</th>\n",
       "      <td>Air India</td>\n",
       "      <td>29 oct</td>\n",
       "      <td>MAA</td>\n",
       "      <td>DEL</td>\n",
       "      <td>1 Stop</td>\n",
       "      <td>07h 25m</td>\n",
       "      <td>08:40</td>\n",
       "      <td>16:05</td>\n",
       "      <td>₹23713</td>\n",
       "    </tr>\n",
       "    <tr>\n",
       "      <th>126</th>\n",
       "      <td>Air India</td>\n",
       "      <td>29 oct</td>\n",
       "      <td>MAA</td>\n",
       "      <td>DEL</td>\n",
       "      <td>1 Stop</td>\n",
       "      <td>11h 55m</td>\n",
       "      <td>08:40</td>\n",
       "      <td>20:35</td>\n",
       "      <td>₹23713</td>\n",
       "    </tr>\n",
       "    <tr>\n",
       "      <th>127</th>\n",
       "      <td>Air India</td>\n",
       "      <td>29 oct</td>\n",
       "      <td>MAA</td>\n",
       "      <td>DEL</td>\n",
       "      <td>1 Stop</td>\n",
       "      <td>06h 05m</td>\n",
       "      <td>07:00</td>\n",
       "      <td>13:05</td>\n",
       "      <td>₹23927</td>\n",
       "    </tr>\n",
       "    <tr>\n",
       "      <th>128</th>\n",
       "      <td>Vistara</td>\n",
       "      <td>29 oct</td>\n",
       "      <td>MAA</td>\n",
       "      <td>DEL</td>\n",
       "      <td>2 Stop</td>\n",
       "      <td>12h 35m</td>\n",
       "      <td>09:50</td>\n",
       "      <td>22:25</td>\n",
       "      <td>₹27086</td>\n",
       "    </tr>\n",
       "    <tr>\n",
       "      <th>129</th>\n",
       "      <td>Vistara</td>\n",
       "      <td>29 oct</td>\n",
       "      <td>MAA</td>\n",
       "      <td>DEL</td>\n",
       "      <td>2 Stop</td>\n",
       "      <td>31h 15m</td>\n",
       "      <td>09:50</td>\n",
       "      <td>17:05</td>\n",
       "      <td>₹29526</td>\n",
       "    </tr>\n",
       "  </tbody>\n",
       "</table>\n",
       "<p>130 rows × 9 columns</p>\n",
       "</div>"
      ],
      "text/plain": [
       "       Airline_ Date of Journey Source Destination No of stops  Duration  \\\n",
       "0     Spice Jet          29 oct    MAA         DEL       1 Stop  24h 05m   \n",
       "1     Spice Jet          29 oct    MAA         DEL       1 Stop  04h 45m   \n",
       "2    Indigo Air          29 oct    MAA         DEL       1 Stop  05h 00m   \n",
       "3    Indigo Air          29 oct    MAA         DEL       1 Stop  06h 05m   \n",
       "4    Indigo Air          29 oct    MAA         DEL       1 Stop  06h 35m   \n",
       "..          ...             ...    ...         ...          ...      ...   \n",
       "125   Air India          29 oct    MAA         DEL       1 Stop  07h 25m   \n",
       "126   Air India          29 oct    MAA         DEL       1 Stop  11h 55m   \n",
       "127   Air India          29 oct    MAA         DEL       1 Stop  06h 05m   \n",
       "128     Vistara          29 oct    MAA         DEL       2 Stop  12h 35m   \n",
       "129     Vistara          29 oct    MAA         DEL       2 Stop  31h 15m   \n",
       "\n",
       "    Departure time Arrival time   Price  \n",
       "0            14:15        14:20   ₹7381  \n",
       "1            06:10        10:55   ₹7493  \n",
       "2            15:50        20:50   ₹7752  \n",
       "3            15:50        21:55   ₹7752  \n",
       "4            12:20        18:55   ₹7752  \n",
       "..             ...          ...     ...  \n",
       "125          08:40        16:05  ₹23713  \n",
       "126          08:40        20:35  ₹23713  \n",
       "127          07:00        13:05  ₹23927  \n",
       "128          09:50        22:25  ₹27086  \n",
       "129          09:50        17:05  ₹29526  \n",
       "\n",
       "[130 rows x 9 columns]"
      ]
     },
     "execution_count": 226,
     "metadata": {},
     "output_type": "execute_result"
    }
   ],
   "source": [
    "d6"
   ]
  },
  {
   "cell_type": "code",
   "execution_count": 227,
   "metadata": {},
   "outputs": [
    {
     "name": "stdout",
     "output_type": "stream",
     "text": [
      "DataFrame is written to Excel File successfully.\n"
     ]
    }
   ],
   "source": [
    "file_name = '29 oct.xlsx'    \n",
    "d6.to_excel(file_name)\n",
    "print('DataFrame is written to Excel File successfully.')\n"
   ]
  },
  {
   "cell_type": "code",
   "execution_count": 244,
   "metadata": {},
   "outputs": [],
   "source": [
    "driver.find_element_by_xpath('//*[@id=\"matrix_nav\"]/div[2]/div/nav/div/div[1]/div/div[6]/a/div[1]').click()"
   ]
  },
  {
   "cell_type": "code",
   "execution_count": 245,
   "metadata": {},
   "outputs": [],
   "source": [
    "airline_=[]\n",
    "date=[]\n",
    "source=[]\n",
    "destination=[]\n",
    "no_of_stops=[]\n",
    "duration=[]\n",
    "dept_time=[]\n",
    "arrival_time=[]\n",
    "price=[]\n",
    "\n",
    "for i in driver.find_elements_by_xpath('//div[@class=\"col-2 col-md-2\"]/span[2]'):\n",
    "    airline_.append(i.text)\n",
    "    \n",
    "    \n",
    "for i in driver.find_elements_by_xpath('//div[@class=\"col-field time depart\"]/span[1]'):\n",
    "    source.append(i.text)    \n",
    "    \n",
    "\n",
    "for i in driver.find_elements_by_xpath('//*[@class=\"col-field time return\"]/span[2]'):\n",
    "    destination.append(i.text)\n",
    "    \n",
    "\n",
    "for i in driver.find_elements_by_xpath('//*[@class=\"col-field stops ml-auto mr-auto\"]/div[3]'):\n",
    "    no_of_stops.append(i.text)\n",
    "    \n",
    "\n",
    "for i in driver.find_elements_by_xpath('//*[@class=\"col-field stops ml-auto mr-auto\"]/div[1]'):\n",
    "    duration.append(i.text)\n",
    "    \n",
    "\n",
    "for i in driver.find_elements_by_xpath('//div[@class=\"col-field time depart\"]/span[2]'):\n",
    "    dept_time.append(i.text)\n",
    "    \n",
    "    \n",
    "for i in driver.find_elements_by_xpath('//*[@class=\"col-field time return\"]/span[1]'):\n",
    "    arrival_time.append(i.text)\n",
    "    \n",
    "    \n",
    "for i in driver.find_elements_by_xpath('//*[@id=\"flight_nav\"]/div/div[1]/div[1]/div/div/div/div[1]/h5/span[1]'):\n",
    "    price.append(i.text)\n",
    "    \n",
    "    "
   ]
  },
  {
   "cell_type": "code",
   "execution_count": 247,
   "metadata": {},
   "outputs": [
    {
     "name": "stdout",
     "output_type": "stream",
     "text": [
      "159 0 159 159 159 159 159 159 159\n"
     ]
    }
   ],
   "source": [
    "print(len(airline_),len(date),len(source),len(destination),len(no_of_stops),len(duration),len(dept_time),len(arrival_time),len(price))"
   ]
  },
  {
   "cell_type": "code",
   "execution_count": 248,
   "metadata": {},
   "outputs": [],
   "source": [
    "date=[]\n",
    "for i in range(159):\n",
    "    date.append(\"31 oct\")   "
   ]
  },
  {
   "cell_type": "code",
   "execution_count": 249,
   "metadata": {},
   "outputs": [
    {
     "name": "stdout",
     "output_type": "stream",
     "text": [
      "159 159 159 159 159 159 159 159 159\n"
     ]
    }
   ],
   "source": [
    "print(len(airline_),len(date),len(source),len(destination),len(no_of_stops),len(duration),len(dept_time),len(arrival_time),len(price))"
   ]
  },
  {
   "cell_type": "code",
   "execution_count": 250,
   "metadata": {},
   "outputs": [],
   "source": [
    "d7=pd.DataFrame({'Airline_':airline_, 'Date of Journey':date,'Source':source,'Destination':destination, 'No of stops ':no_of_stops,'Duration':duration,'Departure time':dept_time,'Arrival time':arrival_time,'Price':price})\n"
   ]
  },
  {
   "cell_type": "code",
   "execution_count": 251,
   "metadata": {},
   "outputs": [
    {
     "name": "stdout",
     "output_type": "stream",
     "text": [
      "DataFrame is written to Excel File successfully.\n"
     ]
    }
   ],
   "source": [
    "file_name = '31 oct.xlsx'    \n",
    "d7.to_excel(file_name)\n",
    "print('DataFrame is written to Excel File successfully.')\n"
   ]
  },
  {
   "cell_type": "code",
   "execution_count": 252,
   "metadata": {},
   "outputs": [],
   "source": [
    "driver.find_element_by_xpath('//*[@id=\"matrix_nav\"]/div[2]/div/nav/div/div[1]/div/div[7]/a/div[1]').click()  "
   ]
  },
  {
   "cell_type": "code",
   "execution_count": 253,
   "metadata": {},
   "outputs": [],
   "source": [
    "airline_=[]\n",
    "date=[]\n",
    "source=[]\n",
    "destination=[]\n",
    "no_of_stops=[]\n",
    "duration=[]\n",
    "dept_time=[]\n",
    "arrival_time=[]\n",
    "price=[]\n",
    "\n",
    "for i in driver.find_elements_by_xpath('//div[@class=\"col-2 col-md-2\"]/span[2]'):\n",
    "    airline_.append(i.text)\n",
    "    \n",
    "    \n",
    "for i in driver.find_elements_by_xpath('//div[@class=\"col-field time depart\"]/span[1]'):\n",
    "    source.append(i.text)    \n",
    "    \n",
    "\n",
    "for i in driver.find_elements_by_xpath('//*[@class=\"col-field time return\"]/span[2]'):\n",
    "    destination.append(i.text)\n",
    "    \n",
    "\n",
    "for i in driver.find_elements_by_xpath('//*[@class=\"col-field stops ml-auto mr-auto\"]/div[3]'):\n",
    "    no_of_stops.append(i.text)\n",
    "    \n",
    "\n",
    "for i in driver.find_elements_by_xpath('//*[@class=\"col-field stops ml-auto mr-auto\"]/div[1]'):\n",
    "    duration.append(i.text)\n",
    "    \n",
    "\n",
    "for i in driver.find_elements_by_xpath('//div[@class=\"col-field time depart\"]/span[2]'):\n",
    "    dept_time.append(i.text)\n",
    "    \n",
    "    \n",
    "for i in driver.find_elements_by_xpath('//*[@class=\"col-field time return\"]/span[1]'):\n",
    "    arrival_time.append(i.text)\n",
    "    \n",
    "    \n",
    "for i in driver.find_elements_by_xpath('//*[@id=\"flight_nav\"]/div/div[1]/div[1]/div/div/div/div[1]/h5/span[1]'):\n",
    "    price.append(i.text)\n",
    "    \n",
    "    "
   ]
  },
  {
   "cell_type": "code",
   "execution_count": 254,
   "metadata": {},
   "outputs": [
    {
     "name": "stdout",
     "output_type": "stream",
     "text": [
      "151 0 151 151 151 151 151 151 151\n"
     ]
    }
   ],
   "source": [
    "print(len(airline_),len(date),len(source),len(destination),len(no_of_stops),len(duration),len(dept_time),len(arrival_time),len(price))"
   ]
  },
  {
   "cell_type": "code",
   "execution_count": 255,
   "metadata": {},
   "outputs": [],
   "source": [
    "date=[]\n",
    "for i in range(151):\n",
    "    date.append(\"3 nov\")   "
   ]
  },
  {
   "cell_type": "code",
   "execution_count": 256,
   "metadata": {},
   "outputs": [
    {
     "name": "stdout",
     "output_type": "stream",
     "text": [
      "151 151 151 151 151 151 151 151 151\n"
     ]
    }
   ],
   "source": [
    "print(len(airline_),len(date),len(source),len(destination),len(no_of_stops),len(duration),len(dept_time),len(arrival_time),len(price))"
   ]
  },
  {
   "cell_type": "code",
   "execution_count": 257,
   "metadata": {},
   "outputs": [],
   "source": [
    "d8=pd.DataFrame({'Airline_':airline_, 'Date of Journey':date,'Source':source,'Destination':destination, 'No of stops ':no_of_stops,'Duration':duration,'Departure time':dept_time,'Arrival time':arrival_time,'Price':price})\n"
   ]
  },
  {
   "cell_type": "code",
   "execution_count": 258,
   "metadata": {},
   "outputs": [
    {
     "name": "stdout",
     "output_type": "stream",
     "text": [
      "DataFrame is written to Excel File successfully.\n"
     ]
    }
   ],
   "source": [
    "file_name = '3 nov.xlsx'    \n",
    "d8.to_excel(file_name)\n",
    "print('DataFrame is written to Excel File successfully.')\n"
   ]
  },
  {
   "cell_type": "code",
   "execution_count": 259,
   "metadata": {},
   "outputs": [],
   "source": [
    "driver.find_element_by_xpath('//*[@id=\"matrix_nav\"]/div[2]/div/nav/div/div[1]/div/div[6]/a/div[1]').click()"
   ]
  },
  {
   "cell_type": "code",
   "execution_count": 261,
   "metadata": {},
   "outputs": [],
   "source": [
    "airline_=[]\n",
    "date=[]\n",
    "source=[]\n",
    "destination=[]\n",
    "no_of_stops=[]\n",
    "duration=[]\n",
    "dept_time=[]\n",
    "arrival_time=[]\n",
    "price=[]\n",
    "\n",
    "for i in driver.find_elements_by_xpath('//div[@class=\"col-2 col-md-2\"]/span[2]'):\n",
    "    airline_.append(i.text)\n",
    "    \n",
    "    \n",
    "for i in driver.find_elements_by_xpath('//div[@class=\"col-field time depart\"]/span[1]'):\n",
    "    source.append(i.text)    \n",
    "    \n",
    "\n",
    "for i in driver.find_elements_by_xpath('//*[@class=\"col-field time return\"]/span[2]'):\n",
    "    destination.append(i.text)\n",
    "    \n",
    "\n",
    "for i in driver.find_elements_by_xpath('//*[@class=\"col-field stops ml-auto mr-auto\"]/div[3]'):\n",
    "    no_of_stops.append(i.text)\n",
    "    \n",
    "\n",
    "for i in driver.find_elements_by_xpath('//*[@class=\"col-field stops ml-auto mr-auto\"]/div[1]'):\n",
    "    duration.append(i.text)\n",
    "    \n",
    "\n",
    "for i in driver.find_elements_by_xpath('//div[@class=\"col-field time depart\"]/span[2]'):\n",
    "    dept_time.append(i.text)\n",
    "    \n",
    "    \n",
    "for i in driver.find_elements_by_xpath('//*[@class=\"col-field time return\"]/span[1]'):\n",
    "    arrival_time.append(i.text)\n",
    "    \n",
    "    \n",
    "for i in driver.find_elements_by_xpath('//*[@id=\"flight_nav\"]/div/div[1]/div[1]/div/div/div/div[1]/h5/span[1]'):\n",
    "    price.append(i.text)\n",
    "    \n",
    "    "
   ]
  },
  {
   "cell_type": "code",
   "execution_count": 262,
   "metadata": {},
   "outputs": [
    {
     "name": "stdout",
     "output_type": "stream",
     "text": [
      "145 0 145 145 145 145 145 145 145\n"
     ]
    }
   ],
   "source": [
    "print(len(airline_),len(date),len(source),len(destination),len(no_of_stops),len(duration),len(dept_time),len(arrival_time),len(price))"
   ]
  },
  {
   "cell_type": "code",
   "execution_count": 263,
   "metadata": {},
   "outputs": [],
   "source": [
    "date=[]\n",
    "for i in range(145):\n",
    "    date.append(\"5 nov\")   "
   ]
  },
  {
   "cell_type": "code",
   "execution_count": 264,
   "metadata": {},
   "outputs": [
    {
     "name": "stdout",
     "output_type": "stream",
     "text": [
      "145 145 145 145 145 145 145 145 145\n"
     ]
    }
   ],
   "source": [
    "print(len(airline_),len(date),len(source),len(destination),len(no_of_stops),len(duration),len(dept_time),len(arrival_time),len(price))"
   ]
  },
  {
   "cell_type": "code",
   "execution_count": 265,
   "metadata": {},
   "outputs": [],
   "source": [
    "d9=pd.DataFrame({'Airline_':airline_, 'Date of Journey':date,'Source':source,'Destination':destination, 'No of stops ':no_of_stops,'Duration':duration,'Departure time':dept_time,'Arrival time':arrival_time,'Price':price})\n"
   ]
  },
  {
   "cell_type": "code",
   "execution_count": 266,
   "metadata": {},
   "outputs": [
    {
     "name": "stdout",
     "output_type": "stream",
     "text": [
      "DataFrame is written to Excel File successfully.\n"
     ]
    }
   ],
   "source": [
    "file_name = '5 nov.xlsx'    \n",
    "d9.to_excel(file_name)\n",
    "print('DataFrame is written to Excel File successfully.')\n"
   ]
  },
  {
   "cell_type": "code",
   "execution_count": 267,
   "metadata": {},
   "outputs": [],
   "source": [
    "driver.find_element_by_xpath('//*[@id=\"matrix_nav\"]/div[2]/div/nav/div/div[1]/div/div[6]/a/div[1]').click()"
   ]
  },
  {
   "cell_type": "code",
   "execution_count": 269,
   "metadata": {},
   "outputs": [],
   "source": [
    "airline_=[]\n",
    "date=[]\n",
    "source=[]\n",
    "destination=[]\n",
    "no_of_stops=[]\n",
    "duration=[]\n",
    "dept_time=[]\n",
    "arrival_time=[]\n",
    "price=[]\n",
    "\n",
    "for i in driver.find_elements_by_xpath('//div[@class=\"col-2 col-md-2\"]/span[2]'):\n",
    "    airline_.append(i.text)\n",
    "    \n",
    "    \n",
    "for i in driver.find_elements_by_xpath('//div[@class=\"col-field time depart\"]/span[1]'):\n",
    "    source.append(i.text)    \n",
    "    \n",
    "\n",
    "for i in driver.find_elements_by_xpath('//*[@class=\"col-field time return\"]/span[2]'):\n",
    "    destination.append(i.text)\n",
    "    \n",
    "\n",
    "for i in driver.find_elements_by_xpath('//*[@class=\"col-field stops ml-auto mr-auto\"]/div[3]'):\n",
    "    no_of_stops.append(i.text)\n",
    "    \n",
    "\n",
    "for i in driver.find_elements_by_xpath('//*[@class=\"col-field stops ml-auto mr-auto\"]/div[1]'):\n",
    "    duration.append(i.text)\n",
    "    \n",
    "\n",
    "for i in driver.find_elements_by_xpath('//div[@class=\"col-field time depart\"]/span[2]'):\n",
    "    dept_time.append(i.text)\n",
    "    \n",
    "    \n",
    "for i in driver.find_elements_by_xpath('//*[@class=\"col-field time return\"]/span[1]'):\n",
    "    arrival_time.append(i.text)\n",
    "    \n",
    "    \n",
    "for i in driver.find_elements_by_xpath('//*[@id=\"flight_nav\"]/div/div[1]/div[1]/div/div/div/div[1]/h5/span[1]'):\n",
    "    price.append(i.text)\n",
    "    \n",
    "    "
   ]
  },
  {
   "cell_type": "code",
   "execution_count": 270,
   "metadata": {},
   "outputs": [
    {
     "name": "stdout",
     "output_type": "stream",
     "text": [
      "150 0 150 150 150 150 150 150 150\n"
     ]
    }
   ],
   "source": [
    "print(len(airline_),len(date),len(source),len(destination),len(no_of_stops),len(duration),len(dept_time),len(arrival_time),len(price))"
   ]
  },
  {
   "cell_type": "code",
   "execution_count": 271,
   "metadata": {},
   "outputs": [],
   "source": [
    "date=[]\n",
    "for i in range(150):\n",
    "    date.append(\"7 nov\")   "
   ]
  },
  {
   "cell_type": "code",
   "execution_count": 272,
   "metadata": {},
   "outputs": [
    {
     "name": "stdout",
     "output_type": "stream",
     "text": [
      "150 150 150 150 150 150 150 150 150\n"
     ]
    }
   ],
   "source": [
    "print(len(airline_),len(date),len(source),len(destination),len(no_of_stops),len(duration),len(dept_time),len(arrival_time),len(price))"
   ]
  },
  {
   "cell_type": "code",
   "execution_count": 273,
   "metadata": {},
   "outputs": [],
   "source": [
    "d10=pd.DataFrame({'Airline_':airline_, 'Date of Journey':date,'Source':source,'Destination':destination, 'No of stops ':no_of_stops,'Duration':duration,'Departure time':dept_time,'Arrival time':arrival_time,'Price':price})\n"
   ]
  },
  {
   "cell_type": "code",
   "execution_count": 274,
   "metadata": {},
   "outputs": [
    {
     "name": "stdout",
     "output_type": "stream",
     "text": [
      "DataFrame is written to Excel File successfully.\n"
     ]
    }
   ],
   "source": [
    "file_name = '7 nov.xlsx'    \n",
    "d10.to_excel(file_name)\n",
    "print('DataFrame is written to Excel File successfully.')\n"
   ]
  },
  {
   "cell_type": "code",
   "execution_count": 297,
   "metadata": {},
   "outputs": [],
   "source": [
    "driver.find_element_by_xpath('//*[@id=\"matrix_nav\"]/div[2]/div/nav/div/div[1]/div/div[2]/a/div[1]').click()"
   ]
  },
  {
   "cell_type": "code",
   "execution_count": 298,
   "metadata": {},
   "outputs": [],
   "source": [
    "airline_=[]\n",
    "date=[]\n",
    "source=[]\n",
    "destination=[]\n",
    "no_of_stops=[]\n",
    "duration=[]\n",
    "dept_time=[]\n",
    "arrival_time=[]\n",
    "price=[]\n",
    "\n",
    "for i in driver.find_elements_by_xpath('//div[@class=\"col-2 col-md-2\"]/span[2]'):\n",
    "    airline_.append(i.text)\n",
    "    \n",
    "    \n",
    "for i in driver.find_elements_by_xpath('//div[@class=\"col-field time depart\"]/span[1]'):\n",
    "    source.append(i.text)    \n",
    "    \n",
    "\n",
    "for i in driver.find_elements_by_xpath('//*[@class=\"col-field time return\"]/span[2]'):\n",
    "    destination.append(i.text)\n",
    "    \n",
    "\n",
    "for i in driver.find_elements_by_xpath('//*[@class=\"col-field stops ml-auto mr-auto\"]/div[3]'):\n",
    "    no_of_stops.append(i.text)\n",
    "    \n",
    "\n",
    "for i in driver.find_elements_by_xpath('//*[@class=\"col-field stops ml-auto mr-auto\"]/div[1]'):\n",
    "    duration.append(i.text)\n",
    "    \n",
    "\n",
    "for i in driver.find_elements_by_xpath('//div[@class=\"col-field time depart\"]/span[2]'):\n",
    "    dept_time.append(i.text)\n",
    "    \n",
    "    \n",
    "for i in driver.find_elements_by_xpath('//*[@class=\"col-field time return\"]/span[1]'):\n",
    "    arrival_time.append(i.text)\n",
    "    \n",
    "    \n",
    "for i in driver.find_elements_by_xpath('//*[@id=\"flight_nav\"]/div/div[1]/div[1]/div/div/div/div[1]/h5/span[1]'):\n",
    "    price.append(i.text)"
   ]
  },
  {
   "cell_type": "code",
   "execution_count": 299,
   "metadata": {},
   "outputs": [
    {
     "name": "stdout",
     "output_type": "stream",
     "text": [
      "158 0 158 158 158 158 158 158 158\n"
     ]
    }
   ],
   "source": [
    "print(len(airline_),len(date),len(source),len(destination),len(no_of_stops),len(duration),len(dept_time),len(arrival_time),len(price))"
   ]
  },
  {
   "cell_type": "code",
   "execution_count": 300,
   "metadata": {},
   "outputs": [],
   "source": [
    "date=[]\n",
    "for i in range(158):\n",
    "    date.append(\"9 nov\")   "
   ]
  },
  {
   "cell_type": "code",
   "execution_count": 301,
   "metadata": {},
   "outputs": [
    {
     "name": "stdout",
     "output_type": "stream",
     "text": [
      "158 158 158 158 158 158 158 158 158\n"
     ]
    }
   ],
   "source": [
    "print(len(airline_),len(date),len(source),len(destination),len(no_of_stops),len(duration),len(dept_time),len(arrival_time),len(price)) "
   ]
  },
  {
   "cell_type": "code",
   "execution_count": 302,
   "metadata": {},
   "outputs": [],
   "source": [
    "d11=pd.DataFrame({'Airline_':airline_, 'Date of Journey':date,'Source':source,'Destination':destination, 'No of stops ':no_of_stops,'Duration':duration,'Departure time':dept_time,'Arrival time':arrival_time,'Price':price})\n"
   ]
  },
  {
   "cell_type": "code",
   "execution_count": 303,
   "metadata": {},
   "outputs": [
    {
     "name": "stdout",
     "output_type": "stream",
     "text": [
      "DataFrame is written to Excel File successfully.\n"
     ]
    }
   ],
   "source": [
    "file_name = '9 nov.xlsx'    \n",
    "d11.to_excel(file_name)\n",
    "print('DataFrame is written to Excel File successfully.')\n"
   ]
  },
  {
   "cell_type": "code",
   "execution_count": 286,
   "metadata": {},
   "outputs": [],
   "source": [
    "driver.find_element_by_xpath('//*[@id=\"matrix_nav\"]/div[2]/div/nav/div/div[1]/div/div[2]/a/div[1]').click()"
   ]
  },
  {
   "cell_type": "code",
   "execution_count": 287,
   "metadata": {},
   "outputs": [],
   "source": [
    "airline_=[]\n",
    "date=[]\n",
    "source=[]\n",
    "destination=[]\n",
    "no_of_stops=[]\n",
    "duration=[]\n",
    "dept_time=[]\n",
    "arrival_time=[]\n",
    "price=[]\n",
    "\n",
    "for i in driver.find_elements_by_xpath('//div[@class=\"col-2 col-md-2\"]/span[2]'):\n",
    "    airline_.append(i.text)\n",
    "    \n",
    "    \n",
    "for i in driver.find_elements_by_xpath('//div[@class=\"col-field time depart\"]/span[1]'):\n",
    "    source.append(i.text)    \n",
    "    \n",
    "\n",
    "for i in driver.find_elements_by_xpath('//*[@class=\"col-field time return\"]/span[2]'):\n",
    "    destination.append(i.text)\n",
    "    \n",
    "\n",
    "for i in driver.find_elements_by_xpath('//*[@class=\"col-field stops ml-auto mr-auto\"]/div[3]'):\n",
    "    no_of_stops.append(i.text)\n",
    "    \n",
    "\n",
    "for i in driver.find_elements_by_xpath('//*[@class=\"col-field stops ml-auto mr-auto\"]/div[1]'):\n",
    "    duration.append(i.text)\n",
    "    \n",
    "\n",
    "for i in driver.find_elements_by_xpath('//div[@class=\"col-field time depart\"]/span[2]'):\n",
    "    dept_time.append(i.text)\n",
    "    \n",
    "    \n",
    "for i in driver.find_elements_by_xpath('//*[@class=\"col-field time return\"]/span[1]'):\n",
    "    arrival_time.append(i.text)\n",
    "    \n",
    "    \n",
    "for i in driver.find_elements_by_xpath('//*[@id=\"flight_nav\"]/div/div[1]/div[1]/div/div/div/div[1]/h5/span[1]'):\n",
    "    price.append(i.text)\n",
    "    \n",
    "    "
   ]
  },
  {
   "cell_type": "code",
   "execution_count": 288,
   "metadata": {},
   "outputs": [
    {
     "name": "stdout",
     "output_type": "stream",
     "text": [
      "160 0 160 160 160 160 160 160 160\n"
     ]
    }
   ],
   "source": [
    "print(len(airline_),len(date),len(source),len(destination),len(no_of_stops),len(duration),len(dept_time),len(arrival_time),len(price))"
   ]
  },
  {
   "cell_type": "code",
   "execution_count": 289,
   "metadata": {},
   "outputs": [],
   "source": [
    "date=[]\n",
    "for i in range(160):\n",
    "    date.append(\"11 nov\")   "
   ]
  },
  {
   "cell_type": "code",
   "execution_count": 290,
   "metadata": {},
   "outputs": [
    {
     "name": "stdout",
     "output_type": "stream",
     "text": [
      "160 160 160 160 160 160 160 160 160\n"
     ]
    }
   ],
   "source": [
    "print(len(airline_),len(date),len(source),len(destination),len(no_of_stops),len(duration),len(dept_time),len(arrival_time),len(price))"
   ]
  },
  {
   "cell_type": "code",
   "execution_count": 293,
   "metadata": {},
   "outputs": [],
   "source": [
    "date=[]\n",
    "for i in range(160):\n",
    "    date.append(\"11 nov\")   "
   ]
  },
  {
   "cell_type": "code",
   "execution_count": 294,
   "metadata": {},
   "outputs": [
    {
     "name": "stdout",
     "output_type": "stream",
     "text": [
      "160 160 160 160 160 160 160 160 160\n"
     ]
    }
   ],
   "source": [
    "print(len(airline_),len(date),len(source),len(destination),len(no_of_stops),len(duration),len(dept_time),len(arrival_time),len(price))"
   ]
  },
  {
   "cell_type": "code",
   "execution_count": 295,
   "metadata": {},
   "outputs": [],
   "source": [
    "d12=pd.DataFrame({'Airline_':airline_, 'Date of Journey':date,'Source':source,'Destination':destination, 'No of stops ':no_of_stops,'Duration':duration,'Departure time':dept_time,'Arrival time':arrival_time,'Price':price})\n"
   ]
  },
  {
   "cell_type": "code",
   "execution_count": 296,
   "metadata": {},
   "outputs": [
    {
     "name": "stdout",
     "output_type": "stream",
     "text": [
      "DataFrame is written to Excel File successfully.\n"
     ]
    }
   ],
   "source": [
    "file_name = '11 nov.xlsx'    \n",
    "d12.to_excel(file_name)\n",
    "print('DataFrame is written to Excel File successfully.')\n"
   ]
  },
  {
   "cell_type": "code",
   "execution_count": 304,
   "metadata": {},
   "outputs": [],
   "source": [
    "driver.find_element_by_xpath('//*[@id=\"matrix_nav\"]/div[2]/div/nav/div/div[1]/div/div[12]/a/div[1]').click()"
   ]
  },
  {
   "cell_type": "code",
   "execution_count": 305,
   "metadata": {},
   "outputs": [],
   "source": [
    "airline_=[]\n",
    "date=[]\n",
    "source=[]\n",
    "destination=[]\n",
    "no_of_stops=[]\n",
    "duration=[]\n",
    "dept_time=[]\n",
    "arrival_time=[]\n",
    "price=[]\n",
    "\n",
    "for i in driver.find_elements_by_xpath('//div[@class=\"col-2 col-md-2\"]/span[2]'):\n",
    "    airline_.append(i.text)\n",
    "    \n",
    "    \n",
    "for i in driver.find_elements_by_xpath('//div[@class=\"col-field time depart\"]/span[1]'):\n",
    "    source.append(i.text)    \n",
    "    \n",
    "\n",
    "for i in driver.find_elements_by_xpath('//*[@class=\"col-field time return\"]/span[2]'):\n",
    "    destination.append(i.text)\n",
    "    \n",
    "\n",
    "for i in driver.find_elements_by_xpath('//*[@class=\"col-field stops ml-auto mr-auto\"]/div[3]'):\n",
    "    no_of_stops.append(i.text)\n",
    "    \n",
    "\n",
    "for i in driver.find_elements_by_xpath('//*[@class=\"col-field stops ml-auto mr-auto\"]/div[1]'):\n",
    "    duration.append(i.text)\n",
    "    \n",
    "\n",
    "for i in driver.find_elements_by_xpath('//div[@class=\"col-field time depart\"]/span[2]'):\n",
    "    dept_time.append(i.text)\n",
    "    \n",
    "    \n",
    "for i in driver.find_elements_by_xpath('//*[@class=\"col-field time return\"]/span[1]'):\n",
    "    arrival_time.append(i.text)\n",
    "    \n",
    "    \n",
    "for i in driver.find_elements_by_xpath('//*[@id=\"flight_nav\"]/div/div[1]/div[1]/div/div/div/div[1]/h5/span[1]'):\n",
    "    price.append(i.text)\n",
    "    \n",
    "    "
   ]
  },
  {
   "cell_type": "code",
   "execution_count": 306,
   "metadata": {},
   "outputs": [
    {
     "name": "stdout",
     "output_type": "stream",
     "text": [
      "154 0 154 154 154 154 154 154 154\n"
     ]
    }
   ],
   "source": [
    "print(len(airline_),len(date),len(source),len(destination),len(no_of_stops),len(duration),len(dept_time),len(arrival_time),len(price))"
   ]
  },
  {
   "cell_type": "code",
   "execution_count": 307,
   "metadata": {},
   "outputs": [],
   "source": [
    "date=[]\n",
    "for i in range(154):\n",
    "    date.append(\"17 nov\")   "
   ]
  },
  {
   "cell_type": "code",
   "execution_count": 308,
   "metadata": {},
   "outputs": [
    {
     "name": "stdout",
     "output_type": "stream",
     "text": [
      "154 154 154 154 154 154 154 154 154\n"
     ]
    }
   ],
   "source": [
    "print(len(airline_),len(date),len(source),len(destination),len(no_of_stops),len(duration),len(dept_time),len(arrival_time),len(price))"
   ]
  },
  {
   "cell_type": "code",
   "execution_count": 309,
   "metadata": {},
   "outputs": [],
   "source": [
    "d13=pd.DataFrame({'Airline_':airline_, 'Date of Journey':date,'Source':source,'Destination':destination, 'No of stops ':no_of_stops,'Duration':duration,'Departure time':dept_time,'Arrival time':arrival_time,'Price':price})\n"
   ]
  },
  {
   "cell_type": "code",
   "execution_count": 310,
   "metadata": {},
   "outputs": [
    {
     "name": "stdout",
     "output_type": "stream",
     "text": [
      "DataFrame is written to Excel File successfully.\n"
     ]
    }
   ],
   "source": [
    "file_name = '17 nov.xlsx'    \n",
    "d13.to_excel(file_name)\n",
    "print('DataFrame is written to Excel File successfully.')\n"
   ]
  },
  {
   "cell_type": "code",
   "execution_count": 311,
   "metadata": {},
   "outputs": [],
   "source": [
    "driver.find_element_by_xpath('//*[@id=\"matrix_nav\"]/div[2]/div/nav/div/div[1]/div/div[13]/a/div[1]').click()  "
   ]
  },
  {
   "cell_type": "code",
   "execution_count": 312,
   "metadata": {},
   "outputs": [],
   "source": [
    "airline_=[]\n",
    "date=[]\n",
    "source=[]\n",
    "destination=[]\n",
    "no_of_stops=[]\n",
    "duration=[]\n",
    "dept_time=[]\n",
    "arrival_time=[]\n",
    "price=[]\n",
    "\n",
    "for i in driver.find_elements_by_xpath('//div[@class=\"col-2 col-md-2\"]/span[2]'):\n",
    "    airline_.append(i.text)\n",
    "    \n",
    "    \n",
    "for i in driver.find_elements_by_xpath('//div[@class=\"col-field time depart\"]/span[1]'):\n",
    "    source.append(i.text)    \n",
    "    \n",
    "\n",
    "for i in driver.find_elements_by_xpath('//*[@class=\"col-field time return\"]/span[2]'):\n",
    "    destination.append(i.text)\n",
    "    \n",
    "\n",
    "for i in driver.find_elements_by_xpath('//*[@class=\"col-field stops ml-auto mr-auto\"]/div[3]'):\n",
    "    no_of_stops.append(i.text)\n",
    "    \n",
    "\n",
    "for i in driver.find_elements_by_xpath('//*[@class=\"col-field stops ml-auto mr-auto\"]/div[1]'):\n",
    "    duration.append(i.text)\n",
    "    \n",
    "\n",
    "for i in driver.find_elements_by_xpath('//div[@class=\"col-field time depart\"]/span[2]'):\n",
    "    dept_time.append(i.text)\n",
    "    \n",
    "    \n",
    "for i in driver.find_elements_by_xpath('//*[@class=\"col-field time return\"]/span[1]'):\n",
    "    arrival_time.append(i.text)\n",
    "    \n",
    "    \n",
    "for i in driver.find_elements_by_xpath('//*[@id=\"flight_nav\"]/div/div[1]/div[1]/div/div/div/div[1]/h5/span[1]'):\n",
    "    price.append(i.text)"
   ]
  },
  {
   "cell_type": "code",
   "execution_count": 313,
   "metadata": {},
   "outputs": [
    {
     "name": "stdout",
     "output_type": "stream",
     "text": [
      "148 0 148 148 148 148 148 148 148\n"
     ]
    }
   ],
   "source": [
    "print(len(airline_),len(date),len(source),len(destination),len(no_of_stops),len(duration),len(dept_time),len(arrival_time),len(price))"
   ]
  },
  {
   "cell_type": "code",
   "execution_count": 314,
   "metadata": {},
   "outputs": [],
   "source": [
    "date=[]\n",
    "for i in range(148):\n",
    "    date.append(\"26 nov\")   "
   ]
  },
  {
   "cell_type": "code",
   "execution_count": 315,
   "metadata": {},
   "outputs": [
    {
     "name": "stdout",
     "output_type": "stream",
     "text": [
      "148 148 148 148 148 148 148 148 148\n"
     ]
    }
   ],
   "source": [
    "print(len(airline_),len(date),len(source),len(destination),len(no_of_stops),len(duration),len(dept_time),len(arrival_time),len(price))"
   ]
  },
  {
   "cell_type": "code",
   "execution_count": 316,
   "metadata": {},
   "outputs": [],
   "source": [
    "d14=pd.DataFrame({'Airline_':airline_, 'Date of Journey':date,'Source':source,'Destination':destination, 'No of stops ':no_of_stops,'Duration':duration,'Departure time':dept_time,'Arrival time':arrival_time,'Price':price})\n"
   ]
  },
  {
   "cell_type": "code",
   "execution_count": 318,
   "metadata": {},
   "outputs": [
    {
     "name": "stdout",
     "output_type": "stream",
     "text": [
      "DataFrame is written to Excel File successfully.\n"
     ]
    }
   ],
   "source": [
    "file_name = '26 nov.xlsx'    \n",
    "d14.to_excel(file_name)\n",
    "print('DataFrame is written to Excel File successfully.')\n"
   ]
  },
  {
   "cell_type": "code",
   "execution_count": 319,
   "metadata": {},
   "outputs": [],
   "source": [
    "driver.find_element_by_xpath('//*[@id=\"matrix_nav\"]/div[2]/div/nav/div/div[1]/div/div[15]/a/div[1]').click()"
   ]
  },
  {
   "cell_type": "code",
   "execution_count": 320,
   "metadata": {},
   "outputs": [],
   "source": [
    "airline_=[]\n",
    "date=[]\n",
    "source=[]\n",
    "destination=[]\n",
    "no_of_stops=[]\n",
    "duration=[]\n",
    "dept_time=[]\n",
    "arrival_time=[]\n",
    "price=[]\n",
    "\n",
    "for i in driver.find_elements_by_xpath('//div[@class=\"col-2 col-md-2\"]/span[2]'):\n",
    "    airline_.append(i.text)\n",
    "    \n",
    "    \n",
    "for i in driver.find_elements_by_xpath('//div[@class=\"col-field time depart\"]/span[1]'):\n",
    "    source.append(i.text)    \n",
    "    \n",
    "\n",
    "for i in driver.find_elements_by_xpath('//*[@class=\"col-field time return\"]/span[2]'):\n",
    "    destination.append(i.text)\n",
    "    \n",
    "\n",
    "for i in driver.find_elements_by_xpath('//*[@class=\"col-field stops ml-auto mr-auto\"]/div[3]'):\n",
    "    no_of_stops.append(i.text)\n",
    "    \n",
    "\n",
    "for i in driver.find_elements_by_xpath('//*[@class=\"col-field stops ml-auto mr-auto\"]/div[1]'):\n",
    "    duration.append(i.text)\n",
    "    \n",
    "\n",
    "for i in driver.find_elements_by_xpath('//div[@class=\"col-field time depart\"]/span[2]'):\n",
    "    dept_time.append(i.text)\n",
    "    \n",
    "    \n",
    "for i in driver.find_elements_by_xpath('//*[@class=\"col-field time return\"]/span[1]'):\n",
    "    arrival_time.append(i.text)\n",
    "    \n",
    "    \n",
    "for i in driver.find_elements_by_xpath('//*[@id=\"flight_nav\"]/div/div[1]/div[1]/div/div/div/div[1]/h5/span[1]'):\n",
    "    price.append(i.text)"
   ]
  },
  {
   "cell_type": "code",
   "execution_count": 321,
   "metadata": {},
   "outputs": [
    {
     "name": "stdout",
     "output_type": "stream",
     "text": [
      "160 0 160 160 160 160 160 160 160\n"
     ]
    }
   ],
   "source": [
    "print(len(airline_),len(date),len(source),len(destination),len(no_of_stops),len(duration),len(dept_time),len(arrival_time),len(price))"
   ]
  },
  {
   "cell_type": "code",
   "execution_count": 322,
   "metadata": {},
   "outputs": [],
   "source": [
    "date=[]\n",
    "for i in range(160):\n",
    "    date.append(\"7 dec\")   "
   ]
  },
  {
   "cell_type": "code",
   "execution_count": 323,
   "metadata": {},
   "outputs": [
    {
     "name": "stdout",
     "output_type": "stream",
     "text": [
      "160 160 160 160 160 160 160 160 160\n"
     ]
    }
   ],
   "source": [
    "print(len(airline_),len(date),len(source),len(destination),len(no_of_stops),len(duration),len(dept_time),len(arrival_time),len(price))"
   ]
  },
  {
   "cell_type": "code",
   "execution_count": 324,
   "metadata": {},
   "outputs": [],
   "source": [
    "d15=pd.DataFrame({'Airline_':airline_, 'Date of Journey':date,'Source':source,'Destination':destination, 'No of stops ':no_of_stops,'Duration':duration,'Departure time':dept_time,'Arrival time':arrival_time,'Price':price})\n"
   ]
  },
  {
   "cell_type": "code",
   "execution_count": 325,
   "metadata": {},
   "outputs": [
    {
     "name": "stdout",
     "output_type": "stream",
     "text": [
      "DataFrame is written to Excel File successfully.\n"
     ]
    }
   ],
   "source": [
    "file_name = '7 dec.xlsx'    \n",
    "d15.to_excel(file_name)\n",
    "print('DataFrame is written to Excel File successfully.')\n"
   ]
  },
  {
   "cell_type": "code",
   "execution_count": null,
   "metadata": {},
   "outputs": [],
   "source": []
  }
 ],
 "metadata": {
  "kernelspec": {
   "display_name": "Python 3",
   "language": "python",
   "name": "python3"
  },
  "language_info": {
   "codemirror_mode": {
    "name": "ipython",
    "version": 3
   },
   "file_extension": ".py",
   "mimetype": "text/x-python",
   "name": "python",
   "nbconvert_exporter": "python",
   "pygments_lexer": "ipython3",
   "version": "3.8.5"
  }
 },
 "nbformat": 4,
 "nbformat_minor": 4
}
